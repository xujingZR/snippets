{
 "cells": [
  {
   "cell_type": "markdown",
   "metadata": {},
   "source": [
    "### 非化学计量比的建模\n"
   ]
  },
  {
   "cell_type": "markdown",
   "metadata": {},
   "source": [
    "作者：JingXu \n",
    "\n",
    "基本工具：enumlib (https://github.com/msg-byu/enumlib), Pymatgen\n",
    "\n",
    "原理：通过考虑空间群列出所有不等价的结构\n",
    "\n",
    "注意：部分占据比例应与原胞中的原子数匹配，否则会报\"unable to enumerate\"的错误"
   ]
  },
  {
   "cell_type": "code",
   "execution_count": null,
   "metadata": {},
   "outputs": [],
   "source": [
    "import os\n",
    "from pymatgen.io.cif import CifParser\n",
    "from pymatgen.symmetry.analyzer import SpacegroupAnalyzer\n",
    "from pymatgen.transformations.advanced_transformations import EnumerateStructureTransformation\n",
    "\n",
    "work_dir = \"work_dir\"\n",
    "cif_fname = \"LCO.cif\"\n",
    "os.chdir(work_dir)\n",
    "\n",
    "struc = CifParser(cif_fname).get_structures()[0]\n",
    "structure_analyzer = SpacegroupAnalyzer(struc)\n",
    "conv_cell = structure_analyzer.get_conventional_standard_structure()\n",
    "enumerate_transform = EnumerateStructureTransformation()\n",
    "enumerate_structure = enumerate_transform.apply_transformation(conv_cell, 1000)"
   ]
  },
  {
   "cell_type": "code",
   "execution_count": null,
   "metadata": {},
   "outputs": [],
   "source": [
    "from pymatgen.analysis.ewald import EwaldSummation\n",
    "from pymatgen.core import Structure\n",
    "\n",
    "for i in range(8):\n",
    "    POSCAR = Structure.from_file('POSCAR_%d' % i)\n",
    "    for j,site in enumerate(POSCAR):\n",
    "        if POSCAR[j].species == 'Li':\n",
    "            POSCAR[j] = 'Li+'\n",
    "        elif POSCAR[j].species == 'Co':\n",
    "            POSCAR[j] = 'Co3+'\n",
    "        else:\n",
    "            POSCAR[j] = 'O2-'\n",
    "    print(i,EwaldSummation(POSCAR).total_energy)"
   ]
  }
 ],
 "metadata": {
  "kernelspec": {
   "display_name": "pymatgen",
   "language": "python",
   "name": "python3"
  },
  "language_info": {
   "codemirror_mode": {
    "name": "ipython",
    "version": 3
   },
   "file_extension": ".py",
   "mimetype": "text/x-python",
   "name": "python",
   "nbconvert_exporter": "python",
   "pygments_lexer": "ipython3",
   "version": "3.11.4"
  }
 },
 "nbformat": 4,
 "nbformat_minor": 2
}
